{
 "cells": [
  {
   "cell_type": "code",
   "execution_count": 1,
   "metadata": {},
   "outputs": [],
   "source": [
    "import pathlib\n",
    "import pandas as pd\n",
    "import numpy as np\n",
    "import re\n",
    "from plotnine import *\n",
    "import scipy\n",
    "from tqdm import tqdm\n",
    "import time\n",
    "from sklearn.mixture import GaussianMixture"
   ]
  },
  {
   "cell_type": "code",
   "execution_count": 2,
   "metadata": {},
   "outputs": [],
   "source": [
    "# CLean\n",
    "locationUsersFile=pathlib.Path(r'purchase_play.csv')\n",
    "steam_clean = pd.read_csv(locationUsersFile, header=1, names=['user', 'game', 'hrs', 'purchase','play'])"
   ]
  },
  {
   "cell_type": "code",
   "execution_count": 3,
   "metadata": {},
   "outputs": [],
   "source": [
    "# Train\n",
    "locationUsersFile_train=pathlib.Path(r'user_train.csv')\n",
    "steam_traind = pd.read_csv(locationUsersFile_train, header=1, names=['user', 'game', 'hrs', 'purchase','play'])"
   ]
  },
  {
   "cell_type": "code",
   "execution_count": 7,
   "metadata": {},
   "outputs": [],
   "source": [
    "# Test\n",
    "locationUsersFile_test=pathlib.Path(r'user_test.csv')\n",
    "steam_test = pd.read_csv(locationUsersFile_test, header=1, names=['user', 'game', 'hrs', 'purchase','play'])"
   ]
  },
  {
   "cell_type": "code",
   "execution_count": 8,
   "metadata": {},
   "outputs": [],
   "source": [
    "# Getting game grequency and also the top 20 of them \n",
    "game_freq = steam_traind.groupby(by='game').agg({'user': 'count', 'hrs': 'sum'}).reset_index()\n",
    "top20 = game_freq.sort_values(by='user',ascending=False)[:20].reset_index()"
   ]
  },
  {
   "cell_type": "code",
   "execution_count": 9,
   "metadata": {},
   "outputs": [
    {
     "name": "stdout",
     "output_type": "stream",
     "text": [
      "    index                                          game  user       hrs\n",
      "0    1267                                        Dota 2  3842  764598.1\n",
      "1    4052                               Team Fortress 2  1855  138615.7\n",
      "2    4553                                      Unturned  1246   13302.3\n",
      "3     923               Counter-Strike Global Offensive  1103  255609.4\n",
      "4    1966                        Half-Life 2 Lost Coast   795     122.6\n",
      "5    2346                                 Left 4 Dead 2   770   27616.2\n",
      "6     926                         Counter-Strike Source   766   74248.5\n",
      "7    4661                                      Warframe   683   22638.0\n",
      "8     920                                Counter-Strike   674  101049.6\n",
      "9    1963                        Half-Life 2 Deathmatch   668    3462.7\n",
      "10   1795                                   Garry's Mod   589   39938.3\n",
      "11   4152                    The Elder Scrolls V Skyrim   580   57653.2\n",
      "12    921                 Counter-Strike Condition Zero   563    5298.0\n",
      "13   3385                                     Robocraft   541    6342.7\n",
      "14    922  Counter-Strike Condition Zero Deleted Scenes   538     266.9\n",
      "15   2030                             Heroes & Generals   522    2749.5\n",
      "16   1962                                   Half-Life 2   518    3468.7\n",
      "17   3635                    Sid Meier's Civilization V   479   71595.7\n",
      "18   4648                                   War Thunder   473    9949.6\n",
      "19   3059                                        Portal   470    1797.5\n"
     ]
    }
   ],
   "source": [
    "print(top20)"
   ]
  },
  {
   "cell_type": "code",
   "execution_count": 10,
   "metadata": {},
   "outputs": [],
   "source": [
    "# Making the id integer type\n",
    "steam_traind['user']=steam_traind['user'].astype(int)\n",
    "steam_clean['user']=steam_clean['user'].astype(int)\n",
    "steam_test['user']=steam_test['user'].astype(int)"
   ]
  },
  {
   "cell_type": "code",
   "execution_count": 11,
   "metadata": {},
   "outputs": [],
   "source": [
    "# Removing some special characters in the game title\n",
    "# Also removing the spaces\n",
    "steam_traind['game1'] = steam_traind['game'].apply(lambda x: re.sub('[^a-zA-Z0-9]', '', x))\n",
    "steam_clean['game1'] = steam_clean['game'].apply(lambda x: re.sub('[^a-zA-Z0-9]', '', x))"
   ]
  },
  {
   "cell_type": "code",
   "execution_count": 13,
   "metadata": {},
   "outputs": [
    {
     "data": {
      "text/html": [
       "<div>\n",
       "<style scoped>\n",
       "    .dataframe tbody tr th:only-of-type {\n",
       "        vertical-align: middle;\n",
       "    }\n",
       "\n",
       "    .dataframe tbody tr th {\n",
       "        vertical-align: top;\n",
       "    }\n",
       "\n",
       "    .dataframe thead th {\n",
       "        text-align: right;\n",
       "    }\n",
       "</style>\n",
       "<table border=\"1\" class=\"dataframe\">\n",
       "  <thead>\n",
       "    <tr style=\"text-align: right;\">\n",
       "      <th></th>\n",
       "      <th>user</th>\n",
       "      <th>game</th>\n",
       "      <th>hrs</th>\n",
       "      <th>purchase</th>\n",
       "      <th>play</th>\n",
       "      <th>game1</th>\n",
       "    </tr>\n",
       "  </thead>\n",
       "  <tbody>\n",
       "    <tr>\n",
       "      <th>0</th>\n",
       "      <td>5250</td>\n",
       "      <td>Cities Skylines</td>\n",
       "      <td>144.0</td>\n",
       "      <td>1</td>\n",
       "      <td>1</td>\n",
       "      <td>CitiesSkylines</td>\n",
       "    </tr>\n",
       "    <tr>\n",
       "      <th>1</th>\n",
       "      <td>5250</td>\n",
       "      <td>Counter-Strike</td>\n",
       "      <td>0.0</td>\n",
       "      <td>1</td>\n",
       "      <td>0</td>\n",
       "      <td>CounterStrike</td>\n",
       "    </tr>\n",
       "    <tr>\n",
       "      <th>2</th>\n",
       "      <td>5250</td>\n",
       "      <td>Counter-Strike Source</td>\n",
       "      <td>0.0</td>\n",
       "      <td>1</td>\n",
       "      <td>0</td>\n",
       "      <td>CounterStrikeSource</td>\n",
       "    </tr>\n",
       "    <tr>\n",
       "      <th>3</th>\n",
       "      <td>5250</td>\n",
       "      <td>Day of Defeat</td>\n",
       "      <td>0.0</td>\n",
       "      <td>1</td>\n",
       "      <td>0</td>\n",
       "      <td>DayofDefeat</td>\n",
       "    </tr>\n",
       "    <tr>\n",
       "      <th>4</th>\n",
       "      <td>5250</td>\n",
       "      <td>Deathmatch Classic</td>\n",
       "      <td>0.0</td>\n",
       "      <td>1</td>\n",
       "      <td>0</td>\n",
       "      <td>DeathmatchClassic</td>\n",
       "    </tr>\n",
       "  </tbody>\n",
       "</table>\n",
       "</div>"
      ],
      "text/plain": [
       "   user                   game    hrs  purchase  play                game1\n",
       "0  5250        Cities Skylines  144.0         1     1       CitiesSkylines\n",
       "1  5250         Counter-Strike    0.0         1     0        CounterStrike\n",
       "2  5250  Counter-Strike Source    0.0         1     0  CounterStrikeSource\n",
       "3  5250          Day of Defeat    0.0         1     0          DayofDefeat\n",
       "4  5250     Deathmatch Classic    0.0         1     0    DeathmatchClassic"
      ]
     },
     "execution_count": 13,
     "metadata": {},
     "output_type": "execute_result"
    }
   ],
   "source": [
    "steam_clean.head()"
   ]
  },
  {
   "cell_type": "code",
   "execution_count": 14,
   "metadata": {},
   "outputs": [
    {
     "name": "stderr",
     "output_type": "stream",
     "text": [
      "C:\\Users\\shrey\\Anaconda3\\lib\\site-packages\\pandas\\core\\series.py:726: RuntimeWarning: divide by zero encountered in log\n",
      "C:\\Users\\shrey\\Anaconda3\\lib\\site-packages\\ipykernel_launcher.py:6: SettingWithCopyWarning: \n",
      "A value is trying to be set on a copy of a slice from a DataFrame.\n",
      "Try using .loc[row_indexer,col_indexer] = value instead\n",
      "\n",
      "See the caveats in the documentation: https://pandas.pydata.org/pandas-docs/stable/user_guide/indexing.html#returning-a-view-versus-a-copy\n"
     ]
    },
    {
     "name": "stdout",
     "output_type": "stream",
     "text": [
      " lambda: [0.11680293 0.11044661 0.48390465 0.22451137 0.06433444]\n",
      " mean: [[1.73261468]\n",
      " [2.83663009]\n",
      " [3.88121326]\n",
      " [4.34175814]\n",
      " [5.12906156]]\n",
      " sigma: [[[0.40581942]]\n",
      "\n",
      " [[0.84861788]]\n",
      "\n",
      " [[0.45762141]]\n",
      "\n",
      " [[0.24072816]]\n",
      "\n",
      " [[0.644318  ]]]\n",
      "\n"
     ]
    },
    {
     "name": "stderr",
     "output_type": "stream",
     "text": [
      "C:\\Users\\shrey\\Anaconda3\\lib\\site-packages\\plotnine\\positions\\position.py:204: PlotnineWarning: position_dodge requires non-overlapping x intervals\n"
     ]
    },
    {
     "data": {
      "image/png": "[encoded data removed]",
      "text/plain": [
       "<Figure size 640x480 with 1 Axes>"
      ]
     },
     "metadata": {},
     "output_type": "display_data"
    },
    {
     "name": "stdout",
     "output_type": "stream",
     "text": [
      "<ggplot: (-9223371945990843936)>\n"
     ]
    }
   ],
   "source": [
    "# Implementation of the EM algorithm \n",
    "def game_hrs_density(GAME, nclass, print_vals=True):\n",
    "    #Ignore the game hrs less than 2 hrs\n",
    "    game_data = steam_clean[(steam_clean['game1'] == GAME)&(steam_clean['hrs']>2)]\n",
    "    #Log hrs\n",
    "    game_data['loghrs'] = np.log(steam_clean['hrs'])\n",
    "    #Calculate the mu,sigma to process Gaussian function\n",
    "    mu_init = np.linspace(min(game_data['loghrs']), max(game_data['loghrs']), nclass).reshape(-1, 1)\n",
    "    sigma_init = np.array([1] * nclass).reshape(-1, 1, 1)\n",
    "    gaussian = GaussianMixture(n_components=nclass, means_init=mu_init, precisions_init=sigma_init).fit(game_data['loghrs'].values.reshape([-1, 1]))\n",
    "    #print Gaussian Lambda Mean Sigma\n",
    "    if print_vals:\n",
    "        print(' lambda: {}\\n mean: {}\\n sigma: {}\\n'.format(gaussian.weights_, gaussian.means_, gaussian.covariances_))\n",
    "    #Random Generate\n",
    "    x = np.linspace(min(game_data['loghrs']), max(game_data['loghrs']), 1000)\n",
    "    #Plot\n",
    "    dens = pd.DataFrame({'x': x})\n",
    "    for i in range(nclass):\n",
    "        dens['y{}'.format(i+1)] = gaussian.weights_[i]* scipy.stats.norm(gaussian.means_[i][0], gaussian.covariances_[i][0][0]).pdf(x)\n",
    "    dens = dens.melt('x', value_name='gaussian')\n",
    "    # Building data frame for plotting\n",
    "    game_plt = ggplot(aes(x='loghrs', y='stat(density)'), game_data) + geom_histogram(bins=25, colour = \"black\", alpha = 0.7, size = 0.1) + \\\n",
    "               geom_area(dens, aes(x='x', y='gaussian', fill = 'variable'), alpha = 0.5, position = position_dodge(width=0.2)) + geom_density()+ \\\n",
    "               ggtitle(GAME)\n",
    "    return game_plt\n",
    "#Print one example\n",
    "a = game_hrs_density('CounterStrike', 5, True)\n",
    "print(a)"
   ]
  },
  {
   "cell_type": "code",
   "execution_count": 15,
   "metadata": {},
   "outputs": [],
   "source": [
    "# Now creating a user item matrix\n",
    "np.random.seed(910)\n",
    "# Delete unnecessary characters\n",
    "game_freq['game1'] = game_freq['game'].apply(lambda x: re.sub('[^a-zA-Z0-9]', '', x))\n",
    "# Only Consider the games have more than 50 users\n",
    "game_users = game_freq[game_freq['user'] > 50]"
   ]
  },
  {
   "cell_type": "code",
   "execution_count": 16,
   "metadata": {},
   "outputs": [],
   "source": [
    "# Now applying to whole dataset\n",
    "#For whole dataset\n",
    "steam_clean_pos = steam_clean[steam_clean['hrs'] > 2]\n",
    "steam_clean_pos_idx = steam_clean_pos['game1'].apply(lambda x: x in game_users['game1'].values)\n",
    "steam_clean_pos = steam_clean_pos[steam_clean_pos_idx]\n",
    "steam_clean_pos['loghrs'] = np.log(steam_clean_pos['hrs'])"
   ]
  },
  {
   "cell_type": "code",
   "execution_count": 17,
   "metadata": {},
   "outputs": [],
   "source": [
    "# Defining the matrix\n",
    "games = pd.DataFrame({'game1': sorted(steam_clean_pos['game1'].unique()), 'game_id': range(len(steam_clean_pos['game1'].unique()))})\n",
    "users = pd.DataFrame({'user': sorted(steam_clean_pos['user'].unique()), 'user_id': range(len(steam_clean_pos['user'].unique()))})\n",
    "steam_clean_pos = pd.merge(steam_clean_pos, games, on=['game1'])\n",
    "steam_clean_pos = pd.merge(steam_clean_pos, users, on=['user'])"
   ]
  },
  {
   "cell_type": "code",
   "execution_count": 18,
   "metadata": {},
   "outputs": [],
   "source": [
    "ui_mat = np.zeros([len(users), len(games)])\n",
    "for i in range(steam_clean_pos.shape[0]):\n",
    "    line = steam_clean_pos.iloc[i]\n",
    "    ui_mat[line['user_id'], line['game_id']] = line['loghrs']"
   ]
  },
  {
   "cell_type": "code",
   "execution_count": 19,
   "metadata": {},
   "outputs": [
    {
     "name": "stdout",
     "output_type": "stream",
     "text": [
      "           user  user_id\n",
      "0          5250        0\n",
      "1         76767        1\n",
      "2         86540        2\n",
      "3        103360        3\n",
      "4        181212        4\n",
      "...         ...      ...\n",
      "5784  309058572     5784\n",
      "5785  309255941     5785\n",
      "5786  309262440     5786\n",
      "5787  309265377     5787\n",
      "5788  309404240     5788\n",
      "\n",
      "[5789 rows x 2 columns]\n"
     ]
    }
   ],
   "source": [
    "# dataset ready for test \n",
    "users_test = pd.DataFrame({'user': sorted(steam_test['user'].unique()), 'user_id': range(len(steam_test['user'].unique()))})\n",
    "print(users_test)"
   ]
  },
  {
   "cell_type": "code",
   "execution_count": 20,
   "metadata": {},
   "outputs": [],
   "source": [
    "# NOw do the same procedure on the training set \n",
    "# Only consider the games hrs more than 2 hrs\n",
    "steam_train = steam_traind[steam_traind['hrs'] > 2]\n",
    "#print(steam_train)\n",
    "#Not consider the games that users less than 50\n",
    "\n",
    "steam_train_idx = steam_train['game1'].apply(lambda x: x in game_users['game1'].values)\n",
    "steam_train = steam_train[steam_train_idx]\n",
    "steam_train['loghrs'] = np.log(steam_train['hrs'])\n",
    "\n",
    "# Make Matrix\n",
    "# List the games in train dataset use for recommend\n",
    "games_train = pd.DataFrame({'game1': sorted(steam_train['game1'].unique()), 'game_id': range(len(steam_train['game1'].unique()))})\n",
    "# List the users in train dataset use for recommend\n",
    "users_train = pd.DataFrame({'user': sorted(steam_train['user'].unique()), 'user_id': range(len(steam_train['user'].unique()\n",
    "                                                                                              ))})\n",
    "#Merge the games and users to one data frame\n",
    "steam_train = pd.merge(steam_train, games_train, on=['game1'])\n",
    "steam_train = pd.merge(steam_train, users_train, on=['user'])"
   ]
  },
  {
   "cell_type": "code",
   "execution_count": 21,
   "metadata": {},
   "outputs": [
    {
     "name": "stdout",
     "output_type": "stream",
     "text": [
      "Dimensions of training user-item matrix: (8119, 404)\n"
     ]
    }
   ],
   "source": [
    "# Create training set\n",
    "test=steam_train\n",
    "ui_train = ui_mat\n",
    "for i in range(test.shape[0]):\n",
    "    line = test.iloc[i]\n",
    "    ui_train[line['user_id'], line['game_id']] = 0\n",
    "print(\"Dimensions of training user-item matrix:\", ui_train.shape)"
   ]
  },
  {
   "cell_type": "code",
   "execution_count": 22,
   "metadata": {},
   "outputs": [],
   "source": [
    "# RMSE for SVD evaulation \n",
    "def rmse(pred, test, data_frame=False):\n",
    "    test_pred = np.array([np.nan] * len(test))\n",
    "    for i in range(len(test)):\n",
    "        line = test.iloc[i]\n",
    "        test_pred[i] = pred[line['user_id'], line['game_id']]\n",
    "    if data_frame:\n",
    "        return pd.DataFrame({'test_pred': test_pred, 'loghrs': test['loghrs']})\n",
    "    return np.sqrt(1/(len(test)-1)*np.sum((test_pred - test['loghrs']) ** 2))"
   ]
  },
  {
   "cell_type": "code",
   "execution_count": 23,
   "metadata": {},
   "outputs": [],
   "source": [
    "# Basic svd\n",
    "Y = pd.DataFrame(ui_train).copy()"
   ]
  },
  {
   "cell_type": "code",
   "execution_count": 24,
   "metadata": {},
   "outputs": [],
   "source": [
    "# Apply imputation \n",
    "means = np.mean(Y)\n",
    "for i, col in enumerate(Y.columns):\n",
    "    Y[col] = Y[col].apply(lambda x: means[i] if x == 0 else x)\n",
    "U, D, V = np.linalg.svd(Y)\n",
    "p_df = pd.DataFrame({'x': range(1, len(D)+1), 'y': D/np.sum(D)})"
   ]
  },
  {
   "cell_type": "code",
   "execution_count": 25,
   "metadata": {},
   "outputs": [
    {
     "name": "stdout",
     "output_type": "stream",
     "text": [
      "3.151236773716947\n"
     ]
    },
    {
     "data": {
      "text/html": [
       "<div>\n",
       "<style scoped>\n",
       "    .dataframe tbody tr th:only-of-type {\n",
       "        vertical-align: middle;\n",
       "    }\n",
       "\n",
       "    .dataframe tbody tr th {\n",
       "        vertical-align: top;\n",
       "    }\n",
       "\n",
       "    .dataframe thead th {\n",
       "        text-align: right;\n",
       "    }\n",
       "</style>\n",
       "<table border=\"1\" class=\"dataframe\">\n",
       "  <thead>\n",
       "    <tr style=\"text-align: right;\">\n",
       "      <th></th>\n",
       "      <th>test_pred</th>\n",
       "      <th>loghrs</th>\n",
       "    </tr>\n",
       "  </thead>\n",
       "  <tbody>\n",
       "    <tr>\n",
       "      <th>0</th>\n",
       "      <td>0.033586</td>\n",
       "      <td>4.969813</td>\n",
       "    </tr>\n",
       "    <tr>\n",
       "      <th>1</th>\n",
       "      <td>0.035915</td>\n",
       "      <td>4.127134</td>\n",
       "    </tr>\n",
       "    <tr>\n",
       "      <th>2</th>\n",
       "      <td>0.110360</td>\n",
       "      <td>2.610070</td>\n",
       "    </tr>\n",
       "    <tr>\n",
       "      <th>3</th>\n",
       "      <td>0.083582</td>\n",
       "      <td>2.054124</td>\n",
       "    </tr>\n",
       "    <tr>\n",
       "      <th>4</th>\n",
       "      <td>0.490625</td>\n",
       "      <td>2.631889</td>\n",
       "    </tr>\n",
       "  </tbody>\n",
       "</table>\n",
       "</div>"
      ],
      "text/plain": [
       "   test_pred    loghrs\n",
       "0   0.033586  4.969813\n",
       "1   0.035915  4.127134\n",
       "2   0.110360  2.610070\n",
       "3   0.083582  2.054124\n",
       "4   0.490625  2.631889"
      ]
     },
     "execution_count": 25,
     "metadata": {},
     "output_type": "execute_result"
    }
   ],
   "source": [
    "#Set the latent factor as 60\n",
    "lc = 60\n",
    "pred = np.dot(np.dot(U[:, :lc], np.diag(D[:lc])), V[:lc, :])\n",
    "#Calculate rmse\n",
    "print(rmse(pred, test))\n",
    "rmse(pred, test, True).head()"
   ]
  },
  {
   "cell_type": "code",
   "execution_count": 26,
   "metadata": {},
   "outputs": [],
   "source": [
    "#SVD via gradient descent\n",
    "#Set the latent factor as 60\n",
    "leading_components=60"
   ]
  },
  {
   "cell_type": "code",
   "execution_count": 27,
   "metadata": {},
   "outputs": [],
   "source": [
    "# Setting matricies\n",
    "Y = pd.DataFrame(ui_train)\n",
    "I = Y.copy()"
   ]
  },
  {
   "cell_type": "code",
   "execution_count": 28,
   "metadata": {},
   "outputs": [],
   "source": [
    "for col in I.columns:\n",
    "    I[col] = I[col].apply(lambda x: 1 if x > 0 else 0)\n",
    "U = np.random.normal(0, 0.01, [I.shape[0], leading_components])\n",
    "V = np.random.normal(0, 0.01, [I.shape[1], leading_components])\n",
    "#Squared error\n",
    "def f(U, V):\n",
    "    return np.sum(I.values*(np.dot(U, V.T)-Y.values)**2)\n",
    "def dfu(U):\n",
    "    return np.dot((2*I.values*(np.dot(U, V.T)-Y.values)), V)\n",
    "def dfv(V):\n",
    "    return np.dot((2*I.values*(np.dot(U, V.T)-Y.values)).T, U)"
   ]
  },
  {
   "cell_type": "code",
   "execution_count": 29,
   "metadata": {},
   "outputs": [
    {
     "name": "stderr",
     "output_type": "stream",
     "text": [
      "100%|████████████████████████████████████████████████████████████████████████████████| 200/200 [14:21<00:00,  4.31s/it]\n"
     ]
    }
   ],
   "source": [
    "#Gradient descent\n",
    "N = 200\n",
    "alpha = 0.001\n",
    "pred = np.round(np.dot(U, V.T), decimals=2)\n",
    "fobj = [f(U, V)]\n",
    "rmsej = [rmse(pred, test)]\n",
    "start = time.time()\n",
    "#process iteratively until we get to the bottom\n",
    "for i in tqdm(range(N)):\n",
    "    U = U - alpha*dfu(U)\n",
    "    V = V - alpha*dfv(V)\n",
    "    fobj.append(f(U, V))\n",
    "    pred = np.round(np.dot(U, V.T), 2)\n",
    "    rmsej.append(rmse(pred, test))"
   ]
  },
  {
   "cell_type": "code",
   "execution_count": 30,
   "metadata": {},
   "outputs": [
    {
     "name": "stdout",
     "output_type": "stream",
     "text": [
      "Time difference of 14.598814928531647 mins\n",
      "     itr         fobj     fobjp      rmse     rmsep\n",
      "200  201  2701.103259  0.008012  2.142219  0.641506\n"
     ]
    }
   ],
   "source": [
    "print('Time difference of {} mins'.format((time.time() - start) / 60))\n",
    "#fojb predicted values\n",
    "fojb = np.array(fobj)\n",
    "#rmsej actual observed values\n",
    "rmsej = np.array(rmsej)\n",
    "path1 = pd.DataFrame({'itr': range(1, N+2), 'fobj': fobj, 'fobjp': fobj/max(fobj), 'rmse': rmsej, 'rmsep': rmsej/max(rmsej)})\n",
    "path1gg = pd.melt(path1[[\"itr\", \"fobjp\", \"rmsep\"]], id_vars=['itr'])\n",
    "print(path1.tail(1))"
   ]
  },
  {
   "cell_type": "code",
   "execution_count": 31,
   "metadata": {},
   "outputs": [
    {
     "data": {
      "image/png": "[encoded data removed]",
      "text/plain": [
       "<Figure size 640x480 with 1 Axes>"
      ]
     },
     "metadata": {},
     "output_type": "display_data"
    },
    {
     "name": "stdout",
     "output_type": "stream",
     "text": [
      "<ggplot: (-9223371946121272888)>\n"
     ]
    }
   ],
   "source": [
    "print(ggplot(path1gg, aes('itr', 'value', color = 'variable')) + geom_line())"
   ]
  },
  {
   "cell_type": "code",
   "execution_count": 32,
   "metadata": {},
   "outputs": [],
   "source": [
    "# Create a rating based on time played after gradient descent\n",
    "def game_hrs_density_p(pred, GAME=None, nclass=1, print_vals=True):\n",
    "    game_dict = dict(games.values)\n",
    "    t_GAME = GAME\n",
    "    if not GAME:\n",
    "        GAME = np.random.randint(0, games.shape[0])\n",
    "    else:\n",
    "        GAME = game_dict[GAME]\n",
    "    game_data = pd.Series(pred[:, GAME])\n",
    "    game_data = game_data[game_data > 0]\n",
    "\n",
    "    # EM algorithm\n",
    "    mu_init = np.linspace(min(game_data), max(game_data), nclass).reshape(-1, 1)\n",
    "    sigma_init = np.array([1] * nclass).reshape(-1, 1, 1)\n",
    "    gaussian = GaussianMixture(n_components=nclass, means_init=mu_init, precisions_init=sigma_init).fit(game_data.values.reshape([-1, 1]))\n",
    "    if print_vals:\n",
    "        print(' lambda: {}\\n mean: {}\\n sigma: {}\\n'.format(gaussian.weights_, gaussian.means_, gaussian.covariances_))\n",
    "    # building data frame for plotting\n",
    "    x = np.linspace(min(game_data), max(game_data), 1000)\n",
    "    dens = pd.DataFrame({'x': x})\n",
    "    for i in range(nclass):\n",
    "        dens['y{}'.format(i+1)] = gaussian.weights_[i]* scipy.stats.norm(gaussian.means_[i][0], gaussian.covariances_[i][0][0]).pdf(x)\n",
    "    dens = dens.melt('x', value_name='gaussian')\n",
    "    game_data = pd.DataFrame(game_data, columns=['game_daat'])\n",
    "    game_plt = ggplot(aes(x='game_data', y='stat(density)'), game_data) + geom_histogram(bins=45, colour = \"black\", alpha = 0.7, size = 0.1) + \\\n",
    "               geom_area(dens, aes(x='x', y='gaussian', fill = 'variable'), alpha = 0.5, position = position_dodge(width=0.2)) + geom_density()+ \\\n",
    "               ggtitle(t_GAME)\n",
    "    return game_plt"
   ]
  },
  {
   "cell_type": "code",
   "execution_count": 33,
   "metadata": {},
   "outputs": [
    {
     "name": "stdout",
     "output_type": "stream",
     "text": [
      " lambda: [2.57350612e-01 6.02684735e-01 1.20509960e-01 1.89444667e-02\n",
      " 5.10225954e-04]\n",
      " mean: [[ 0.86622915]\n",
      " [ 3.1956331 ]\n",
      " [ 5.32323111]\n",
      " [ 7.3511218 ]\n",
      " [10.99499374]]\n",
      " sigma: [[[0.41834057]]\n",
      "\n",
      " [[1.08141297]]\n",
      "\n",
      " [[0.65330773]]\n",
      "\n",
      " [[0.65291966]]\n",
      "\n",
      " [[0.92023095]]]\n",
      "\n"
     ]
    },
    {
     "name": "stderr",
     "output_type": "stream",
     "text": [
      "C:\\Users\\shrey\\Anaconda3\\lib\\site-packages\\plotnine\\positions\\position.py:204: PlotnineWarning: position_dodge requires non-overlapping x intervals\n"
     ]
    },
    {
     "data": {
      "image/png": "[encoded data removed]",
      "text/plain": [
       "<Figure size 640x480 with 1 Axes>"
      ]
     },
     "metadata": {},
     "output_type": "display_data"
    },
    {
     "name": "stdout",
     "output_type": "stream",
     "text": [
      "<ggplot: (-9223371946121381444)>\n"
     ]
    }
   ],
   "source": [
    "a = game_hrs_density_p(pred, \"CounterStrike\", 5)\n",
    "print(a)"
   ]
  },
  {
   "cell_type": "code",
   "execution_count": 34,
   "metadata": {},
   "outputs": [],
   "source": [
    "# Export recommend games\n",
    "user_dict = dict(users.values)\n",
    "game_dict = {games.iloc[i, 0]: games.iloc[i, 1] for i in range(games.shape[0])}\n",
    "I_pred = np.zeros_like(I)\n",
    "for i in range(steam_clean.shape[0]):\n",
    "    line = steam_clean.iloc[i]\n",
    "    if line['user'] in user_dict and line['game1'] in game_dict:\n",
    "        I_pred[user_dict[line['user']], game_dict[line['game1']]] = 1"
   ]
  },
  {
   "cell_type": "code",
   "execution_count": 35,
   "metadata": {},
   "outputs": [],
   "source": [
    "reverse_game_dict = {games.iloc[i, 1]: games.iloc[i, 0] for i in range(games.shape[0])}\n",
    "pred_percentile = pd.DataFrame(pred)\n",
    "for col in pred_percentile.columns:\n",
    "    pred_percentile[col] = pred_percentile[col].rank(pct=True)\n",
    "pred_percentile = pred_percentile.values"
   ]
  },
  {
   "cell_type": "code",
   "execution_count": 36,
   "metadata": {},
   "outputs": [
    {
     "name": "stdout",
     "output_type": "stream",
     "text": [
      "top 20 recommended games for user 5250: \n",
      "0 ) CitiesSkylines\n",
      "1 ) FootballManager2015\n",
      "2 ) GoatSimulator\n",
      "3 ) Fallout3GameoftheYearEdition\n",
      "4 ) AgeofEmpiresIIHDEdition\n",
      "5 ) Terraria\n",
      "6 ) TeamFortress2\n",
      "7 ) MedievalIITotalWar\n",
      "8 ) FootballManager2014\n",
      "9 ) HalfLife2EpisodeTwo\n",
      "10 ) StarTrekOnline\n",
      "11 ) AmnesiaTheDarkDescent\n",
      "12 ) FootballManager2012\n",
      "13 ) HalfLife2\n",
      "14 ) ChivalryMedievalWarfare\n",
      "15 ) RedFactionGuerrillaSteamEdition\n",
      "16 ) ScribblenautsUnlimited\n",
      "17 ) CompanyofHeroes\n",
      "18 ) Metro2033\n",
      "19 ) NEOTOKYO\n"
     ]
    }
   ],
   "source": [
    "def top(n, user, print_value=True):\n",
    "    #Not consider the games has been purchsed\n",
    "    not_purchased = (I - 1) % 2\n",
    "    t_user = user\n",
    "    user = user_dict[user]\n",
    "    top_games = (pred_percentile*not_purchased).iloc[user]\n",
    "    top_games = list(top_games.sort_values(ascending=False)[:20].index)\n",
    "    #For test\n",
    "    if print_value:\n",
    "        print('top {} recommended games for user {}: '.format(n, t_user))\n",
    "        for i in range(n):\n",
    "            print(i, \")\", reverse_game_dict[top_games[i]])\n",
    "    else:\n",
    "        result = [t_user]\n",
    "        for i in range(n):\n",
    "            result.append(reverse_game_dict[top_games[i]])\n",
    "        return result\n",
    "top(20, 5250)"
   ]
  },
  {
   "cell_type": "code",
   "execution_count": 37,
   "metadata": {},
   "outputs": [
    {
     "name": "stderr",
     "output_type": "stream",
     "text": [
      "3432it [04:30, 12.70it/s]\n"
     ]
    }
   ],
   "source": [
    "top_N = 20\n",
    "result = []\n",
    "users_merge=pd.merge(users_test,users_train,on='user',how='inner')\n",
    "for idx, user in tqdm(enumerate(users_merge['user'].values)):\n",
    "    result.append(top(top_N, user, False))\n",
    "\n",
    "users_not=users_test[~users_test['user'].isin(users_merge['user'])]\n",
    "for user in users_not['user']:\n",
    "    empty=[user]\n",
    "    for i in range(20):\n",
    "        empty.append(0)\n",
    "    result.append(empty)\n",
    "df = pd.DataFrame(result)\n",
    "columns = ['user_id'] + ['{}'.format(i+1) for i in range(top_N)]\n",
    "df.columns = columns\n",
    "df.to_csv('Collaborative_EM_output.csv')"
   ]
  },
  {
   "cell_type": "code",
   "execution_count": null,
   "metadata": {},
   "outputs": [],
   "source": []
  }
 ],
 "metadata": {
  "kernelspec": {
   "display_name": "Python [conda env:root] *",
   "language": "python",
   "name": "conda-root-py"
  },
  "language_info": {
   "codemirror_mode": {
    "name": "ipython",
    "version": 3
   },
   "file_extension": ".py",
   "mimetype": "text/x-python",
   "name": "python",
   "nbconvert_exporter": "python",
   "pygments_lexer": "ipython3",
   "version": "3.7.7"
  }
 },
 "nbformat": 4,
 "nbformat_minor": 4
}
