{
 "cells": [
  {
   "cell_type": "code",
   "execution_count": 1,
   "metadata": {},
   "outputs": [],
   "source": [
    "from pandas import read_csv\n",
    "import pathlib"
   ]
  },
  {
   "cell_type": "code",
   "execution_count": 2,
   "metadata": {},
   "outputs": [],
   "source": [
    "n_recommendation = 20"
   ]
  },
  {
   "cell_type": "code",
   "execution_count": 4,
   "metadata": {},
   "outputs": [],
   "source": [
    "locationTestFile = pathlib.Path(r'user_test.csv')\n",
    "dataTest = read_csv(locationTestFile)"
   ]
  },
  {
   "cell_type": "code",
   "execution_count": 7,
   "metadata": {},
   "outputs": [],
   "source": [
    "def evaluate(name_algo, location_algo_output_file, eval_output_file):\n",
    "    dataOutputs = read_csv(location_algo_output_file)\n",
    "\n",
    "    dataOutputs[\"numberGamesUserHasInTest\"] = 0\n",
    "    dataOutputs[\"numberRecommendationUserHas\"] = 0\n",
    "    dataOutputs[\"ratio\"] = 0\n",
    "\n",
    "    for i, row in dataOutputs.iterrows():\n",
    "        userGames = dataTest[dataTest[\"user_id\"] == row[\"user_id\"]][\"game_title\"].tolist()\n",
    "        dataOutputs.at[i, 'numberGamesUserHasInTest'] = len(userGames)\n",
    "        count = 0\n",
    "        for j in range(1, n_recommendation+1):\n",
    "            if row[j] in userGames:\n",
    "                count += 1\n",
    "        dataOutputs.at[i, \"numberRecommendationUserHas\"] = count\n",
    "        if len(userGames) != 0:\n",
    "            dataOutputs.at[i, \"ratio\"] = float(count/len(userGames))\n",
    "    print(name_algo)\n",
    "    print(dataOutputs[\"ratio\"].describe(include=[float]))\n",
    "    print(dataOutputs[\"numberRecommendationUserHas\"].describe(include=[float]))\n",
    "    print(dataOutputs[\"numberGamesUserHasInTest\"].describe(include=[float]))\n",
    "    dataOutputs.to_csv(eval_output_file,\n",
    "                       columns=[\"user_id\", \"ratio\", \"numberRecommendationUserHas\", \"numberGamesUserHasInTest\"], index=False)"
   ]
  },
  {
   "cell_type": "code",
   "execution_count": 8,
   "metadata": {
    "scrolled": true
   },
   "outputs": [
    {
     "name": "stdout",
     "output_type": "stream",
     "text": [
      "Collaborative with EM\n",
      "count    5789.000000\n",
      "mean        0.003455\n",
      "std         0.058681\n",
      "min         0.000000\n",
      "25%         0.000000\n",
      "50%         0.000000\n",
      "75%         0.000000\n",
      "max         1.000000\n",
      "Name: ratio, dtype: float64\n",
      "count    5789.000000\n",
      "mean        0.032821\n",
      "std         0.189461\n",
      "min         0.000000\n",
      "25%         0.000000\n",
      "50%         0.000000\n",
      "75%         0.000000\n",
      "max         2.000000\n",
      "Name: numberRecommendationUserHas, dtype: float64\n",
      "count    5789.000000\n",
      "mean        4.449991\n",
      "std         9.977435\n",
      "min         1.000000\n",
      "25%         1.000000\n",
      "50%         1.000000\n",
      "75%         3.000000\n",
      "max       216.000000\n",
      "Name: numberGamesUserHasInTest, dtype: float64\n"
     ]
    }
   ],
   "source": [
    "evaluate(\"Collaborative with EM\",\n",
    "         pathlib.Path(r'Collaborative_EM_output.csv'),\n",
    "         pathlib.Path(r'Collaborative_EM_evaluation.csv'))"
   ]
  },
  {
   "cell_type": "code",
   "execution_count": 10,
   "metadata": {},
   "outputs": [
    {
     "name": "stdout",
     "output_type": "stream",
     "text": [
      "Collaborative with ALS\n",
      "count    5789.000000\n",
      "mean        0.415616\n",
      "std         0.492870\n",
      "min         0.000000\n",
      "25%         0.000000\n",
      "50%         0.000000\n",
      "75%         1.000000\n",
      "max         1.000000\n",
      "Name: ratio, dtype: float64\n",
      "count    5789.000000\n",
      "mean        1.542926\n",
      "std         1.807541\n",
      "min         0.000000\n",
      "25%         1.000000\n",
      "50%         1.000000\n",
      "75%         2.000000\n",
      "max        14.000000\n",
      "Name: numberRecommendationUserHas, dtype: float64\n",
      "count    5789.000000\n",
      "mean        4.449991\n",
      "std         9.977435\n",
      "min         1.000000\n",
      "25%         1.000000\n",
      "50%         1.000000\n",
      "75%         3.000000\n",
      "max       216.000000\n",
      "Name: numberGamesUserHasInTest, dtype: float64\n"
     ]
    }
   ],
   "source": [
    "evaluate(\"Collaborative with ALS\",\n",
    "         pathlib.Path(r'Collaborative_recommender_als_output.csv'),\n",
    "         pathlib.Path(r'Collaborative_als_evaluation.csv'))"
   ]
  },
  {
   "cell_type": "code",
   "execution_count": null,
   "metadata": {},
   "outputs": [],
   "source": []
  }
 ],
 "metadata": {
  "kernelspec": {
   "display_name": "Python [conda env:root] *",
   "language": "python",
   "name": "conda-root-py"
  },
  "language_info": {
   "codemirror_mode": {
    "name": "ipython",
    "version": 3
   },
   "file_extension": ".py",
   "mimetype": "text/x-python",
   "name": "python",
   "nbconvert_exporter": "python",
   "pygments_lexer": "ipython3",
   "version": "3.7.7"
  }
 },
 "nbformat": 4,
 "nbformat_minor": 4
}
