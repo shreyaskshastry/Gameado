{
 "cells": [
  {
   "cell_type": "code",
   "execution_count": null,
   "metadata": {},
   "outputs": [],
   "source": [
    "import pandas as pd"
   ]
  },
  {
   "cell_type": "code",
   "execution_count": null,
   "metadata": {},
   "outputs": [],
   "source": [
    "# Sciprt to get raw data.\n",
    "exec( open( \"../raw_data/get_raw_data.py\" ).read() )"
   ]
  },
  {
   "cell_type": "code",
   "execution_count": null,
   "metadata": {},
   "outputs": [],
   "source": [
    "# Get the raw data using the function `get_raw_data`\n",
    "# from the above script.\n",
    "relative_path = \"../raw_data\"\n",
    "\n",
    "app_list = get_raw_data( \"app_list\", relative_path )\n",
    "app_data = get_raw_data( \"app_data\", relative_path )\n",
    "app_reviews = get_raw_data( \"app_reviews\", relative_path )\n",
    "user_reviews = get_raw_data( \"user_reviews\", relative_path )"
   ]
  },
  {
   "cell_type": "code",
   "execution_count": null,
   "metadata": {},
   "outputs": [],
   "source": [
    "# Start cleaning"
   ]
  }
 ],
 "metadata": {
  "kernelspec": {
   "display_name": "Python 3",
   "language": "python",
   "name": "python3"
  },
  "language_info": {
   "codemirror_mode": {
    "name": "ipython",
    "version": 3
   },
   "file_extension": ".py",
   "mimetype": "text/x-python",
   "name": "python",
   "nbconvert_exporter": "python",
   "pygments_lexer": "ipython3",
   "version": "3.8.6"
  }
 },
 "nbformat": 4,
 "nbformat_minor": 4
}
